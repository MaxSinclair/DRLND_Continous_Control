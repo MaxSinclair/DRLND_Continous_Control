{
 "cells": [
  {
   "cell_type": "markdown",
   "metadata": {},
   "source": [
    "# Continuous Control\n",
    "\n",
    "---\n",
    "\n",
    "You are welcome to use this coding environment to train your agent for the project.  Follow the instructions below to get started!\n",
    "\n",
    "### 1. Start the Environment\n",
    "\n",
    "Run the next code cell to install a few packages.  This line will take a few minutes to run!"
   ]
  },
  {
   "cell_type": "code",
   "execution_count": 1,
   "metadata": {},
   "outputs": [],
   "source": [
    "!pip -q install ./python"
   ]
  },
  {
   "cell_type": "markdown",
   "metadata": {},
   "source": [
    "The environments corresponding to both versions of the environment are already saved in the Workspace and can be accessed at the file paths provided below.  \n",
    "\n",
    "Please select one of the two options below for loading the environment."
   ]
  },
  {
   "cell_type": "code",
   "execution_count": 2,
   "metadata": {},
   "outputs": [
    {
     "name": "stderr",
     "output_type": "stream",
     "text": [
      "INFO:unityagents:\n",
      "'Academy' started successfully!\n",
      "Unity Academy name: Academy\n",
      "        Number of Brains: 1\n",
      "        Number of External Brains : 1\n",
      "        Lesson number : 0\n",
      "        Reset Parameters :\n",
      "\t\tgoal_speed -> 1.0\n",
      "\t\tgoal_size -> 5.0\n",
      "Unity brain name: ReacherBrain\n",
      "        Number of Visual Observations (per agent): 0\n",
      "        Vector Observation space type: continuous\n",
      "        Vector Observation space size (per agent): 33\n",
      "        Number of stacked Vector Observation: 1\n",
      "        Vector Action space type: continuous\n",
      "        Vector Action space size (per agent): 4\n",
      "        Vector Action descriptions: , , , \n"
     ]
    }
   ],
   "source": [
    "from unityagents import UnityEnvironment\n",
    "import numpy as np\n",
    "\n",
    "# select this option to load version 1 (with a single agent) of the environment\n",
    "env = UnityEnvironment(file_name='/data/Reacher_One_Linux_NoVis/Reacher_One_Linux_NoVis.x86_64')\n",
    "\n",
    "# select this option to load version 2 (with 20 agents) of the environment\n",
    "# env = UnityEnvironment(file_name='/data/Reacher_Linux_NoVis/Reacher.x86_64')"
   ]
  },
  {
   "cell_type": "markdown",
   "metadata": {},
   "source": [
    "Environments contain **_brains_** which are responsible for deciding the actions of their associated agents. Here we check for the first brain available, and set it as the default brain we will be controlling from Python."
   ]
  },
  {
   "cell_type": "code",
   "execution_count": 3,
   "metadata": {},
   "outputs": [],
   "source": [
    "# get the default brain\n",
    "brain_name = env.brain_names[0]\n",
    "brain = env.brains[brain_name]"
   ]
  },
  {
   "cell_type": "markdown",
   "metadata": {},
   "source": [
    "### 2. Examine the State and Action Spaces\n",
    "\n",
    "Run the code cell below to print some information about the environment."
   ]
  },
  {
   "cell_type": "code",
   "execution_count": 4,
   "metadata": {},
   "outputs": [
    {
     "name": "stdout",
     "output_type": "stream",
     "text": [
      "Number of agents: 1\n",
      "Size of each action: 4\n",
      "There are 1 agents. Each observes a state with length: 33\n",
      "The state for the first agent looks like: [  0.00000000e+00  -4.00000000e+00   0.00000000e+00   1.00000000e+00\n",
      "  -0.00000000e+00  -0.00000000e+00  -4.37113883e-08   0.00000000e+00\n",
      "   0.00000000e+00   0.00000000e+00   0.00000000e+00   0.00000000e+00\n",
      "   0.00000000e+00   0.00000000e+00  -1.00000000e+01   0.00000000e+00\n",
      "   1.00000000e+00  -0.00000000e+00  -0.00000000e+00  -4.37113883e-08\n",
      "   0.00000000e+00   0.00000000e+00   0.00000000e+00   0.00000000e+00\n",
      "   0.00000000e+00   0.00000000e+00   5.75471878e+00  -1.00000000e+00\n",
      "   5.55726671e+00   0.00000000e+00   1.00000000e+00   0.00000000e+00\n",
      "  -1.68164849e-01]\n"
     ]
    }
   ],
   "source": [
    "# reset the environment\n",
    "env_info = env.reset(train_mode=True)[brain_name]\n",
    "\n",
    "# number of agents\n",
    "num_agents = len(env_info.agents)\n",
    "print('Number of agents:', num_agents)\n",
    "\n",
    "# size of each action\n",
    "action_size = brain.vector_action_space_size\n",
    "print('Size of each action:', action_size)\n",
    "\n",
    "# examine the state space \n",
    "states = env_info.vector_observations\n",
    "state_size = states.shape[1]\n",
    "print('There are {} agents. Each observes a state with length: {}'.format(states.shape[0], state_size))\n",
    "print('The state for the first agent looks like:', states[0])"
   ]
  },
  {
   "cell_type": "markdown",
   "metadata": {},
   "source": [
    "### 3. Take Random Actions in the Environment\n",
    "\n",
    "In the next code cell, you will learn how to use the Python API to control the agent and receive feedback from the environment.\n",
    "\n",
    "Note that **in this coding environment, you will not be able to watch the agents while they are training**, and you should set `train_mode=True` to restart the environment."
   ]
  },
  {
   "cell_type": "code",
   "execution_count": null,
   "metadata": {},
   "outputs": [],
   "source": [
    "env_info = env.reset(train_mode=True)[brain_name]      # reset the environment    \n",
    "states = env_info.vector_observations                  # get the current state (for each agent)\n",
    "scores = np.zeros(num_agents)                          # initialize the score (for each agent)\n",
    "while True:\n",
    "    actions = np.random.randn(num_agents, action_size) # select an action (for each agent)\n",
    "    actions = np.clip(actions, -1, 1)                  # all actions between -1 and 1\n",
    "    env_info = env.step(actions)[brain_name]           # send all actions to tne environment\n",
    "    next_states = env_info.vector_observations         # get next state (for each agent)\n",
    "    rewards = env_info.rewards                         # get reward (for each agent)\n",
    "    dones = env_info.local_done                        # see if episode finished\n",
    "    scores += env_info.rewards                         # update the score (for each agent)\n",
    "    states = next_states                               # roll over states to next time step\n",
    "    if np.any(dones):                                  # exit loop if episode finished\n",
    "        break\n",
    "print('Total score (averaged over agents) this episode: {}'.format(np.mean(scores)))"
   ]
  },
  {
   "cell_type": "markdown",
   "metadata": {},
   "source": [
    "When finished, you can close the environment."
   ]
  },
  {
   "cell_type": "code",
   "execution_count": null,
   "metadata": {},
   "outputs": [],
   "source": [
    "env.close()"
   ]
  },
  {
   "cell_type": "code",
   "execution_count": 5,
   "metadata": {},
   "outputs": [],
   "source": [
    "from collections import deque\n",
    "import matplotlib.pyplot as plt\n",
    "import torch\n",
    "%matplotlib inline"
   ]
  },
  {
   "cell_type": "code",
   "execution_count": 6,
   "metadata": {},
   "outputs": [
    {
     "data": {
      "text/plain": [
       "4"
      ]
     },
     "execution_count": 6,
     "metadata": {},
     "output_type": "execute_result"
    }
   ],
   "source": [
    "action_size"
   ]
  },
  {
   "cell_type": "code",
   "execution_count": 7,
   "metadata": {},
   "outputs": [],
   "source": [
    "from ddpg_agent import Agent\n"
   ]
  },
  {
   "cell_type": "code",
   "execution_count": 8,
   "metadata": {},
   "outputs": [],
   "source": [
    "agent = Agent(state_size=state_size, action_size=action_size, random_seed=10)"
   ]
  },
  {
   "cell_type": "code",
   "execution_count": 9,
   "metadata": {},
   "outputs": [
    {
     "data": {
      "text/plain": [
       "4"
      ]
     },
     "execution_count": 9,
     "metadata": {},
     "output_type": "execute_result"
    }
   ],
   "source": [
    "agent.steps_to_update_actor"
   ]
  },
  {
   "cell_type": "code",
   "execution_count": 10,
   "metadata": {},
   "outputs": [
    {
     "data": {
      "text/plain": [
       "10"
      ]
     },
     "execution_count": 10,
     "metadata": {},
     "output_type": "execute_result"
    }
   ],
   "source": [
    "agent.steps_to_update_critic"
   ]
  },
  {
   "cell_type": "code",
   "execution_count": 11,
   "metadata": {},
   "outputs": [],
   "source": [
    "agent.actor_local.load_state_dict(torch.load('checkpoint_actor_local_v0510.pth'))\n",
    "agent.actor_target.load_state_dict(torch.load('checkpoint_actor_target_v0510.pth'))"
   ]
  },
  {
   "cell_type": "code",
   "execution_count": 13,
   "metadata": {},
   "outputs": [],
   "source": [
    "agent.critic_local.load_state_dict(torch.load('checkpoint_critic_local_v0510.pth'))\n",
    "agent.critic_target.load_state_dict(torch.load('checkpoint_critic_target_v0510.pth'))"
   ]
  },
  {
   "cell_type": "code",
   "execution_count": 12,
   "metadata": {},
   "outputs": [],
   "source": [
    "def ddpg(n_episodes=300, max_t=1000):\n",
    "    scores_deque = deque(maxlen=100)\n",
    "    scores_all = np.zeros(num_agents) \n",
    "    max_score = -np.Inf\n",
    "    for i_episode in range(1, n_episodes+1):\n",
    "        #state = env.reset()\n",
    "        env_info = env.reset(train_mode=True)[brain_name]\n",
    "        states = env_info.vector_observations \n",
    "        #state = states[0]\n",
    "        agent.reset()\n",
    "        scores = np.zeros(num_agents)   \n",
    "        for t in range(max_t):\n",
    "            actions = agent.act(states)\n",
    "            actions = np.clip(actions, -1, 1)\n",
    "            env_info = env.step(actions)[brain_name] \n",
    "            next_states = env_info.vector_observations         # get next state (for each agent)\n",
    "            rewards = env_info.rewards\n",
    "            dones = env_info.local_done                        # see if episode finished\n",
    "            agent.step(states, actions, rewards, next_states, dones)# get reward (for each agent)\n",
    "            scores += rewards                         # update the score (for each agent)\n",
    "            #print(type(scores))\n",
    "            states = next_states                               # roll over states to next time step\n",
    "            if np.any(dones):                                  # exit loop if episode finished\n",
    "                break\n",
    "\n",
    "        scores_deque.append(scores)\n",
    " #      scores.append(scores)\n",
    "        print('\\rEpisode {}\\tAverage Score: {:.4f}\\tScore: {:.4f}'.format(i_episode, np.mean(scores_deque)), end=\"\")\n",
    "        if i_episode % 5 == 0:\n",
    "            print('\\rEpisode {}\\tAverage Score: {:.2f}'.format(i_episode, np.mean(scores_deque)))   \n",
    "        if i_episode % 10 == 0:\n",
    "            torch.save(agent.actor_local.state_dict(), 'checkpoint_actor_local_v0410.pth')\n",
    "            torch.save(agent.critic_local.state_dict(), 'checkpoint_critic_local_v0410.pth') \n",
    "            torch.save(agent.actor_target.state_dict(), 'checkpoint_actor_target_v0410.pth')\n",
    "            torch.save(agent.critic_target.state_dict(), 'checkpoint_critic_target_v0410.pth') \n",
    "        if np.mean(scores_deque)>=30:\n",
    "            print(' \\rEnvironment solved in episodes: {}\\tAverage Score: {:.2f}'.format(i_episode, np.mean(scores_deque)))    \n",
    "            break\n",
    "    return scores_all\n",
    "#"
   ]
  },
  {
   "cell_type": "code",
   "execution_count": 13,
   "metadata": {
    "scrolled": true
   },
   "outputs": [
    {
     "name": "stdout",
     "output_type": "stream",
     "text": [
      "Episode 5\tAverage Score: 0.6320\tScore: 0.5267\n",
      "Episode 10\tAverage Score: 0.7120\tScore: 0.6473\n",
      "Episode 15\tAverage Score: 0.5893\tScore: 0.5431\n",
      "Episode 20\tAverage Score: 0.6565\tScore: 0.6157\n",
      "Episode 25\tAverage Score: 0.6360\tScore: 0.6019\n",
      "Episode 30\tAverage Score: 0.8487\tScore: 0.8116\n",
      "Episode 35\tAverage Score: 0.9726\tScore: 0.9456\n",
      "Episode 40\tAverage Score: 0.9787\tScore: 0.9451\n",
      "Episode 45\tAverage Score: 1.1682\tScore: 1.1330\n",
      "Episode 50\tAverage Score: 1.4144\tScore: 1.3867\n",
      "Episode 55\tAverage Score: 1.5129\tScore: 1.4859\n",
      "Episode 60\tAverage Score: 1.6327\tScore: 1.6059\n",
      "Episode 65\tAverage Score: 1.7726\tScore: 1.7458\n",
      "Episode 70\tAverage Score: 1.8911\tScore: 1.8645\n",
      "Episode 75\tAverage Score: 2.0449\tScore: 2.0180\n",
      "Episode 80\tAverage Score: 2.1869\tScore: 2.1500\n",
      "Episode 85\tAverage Score: 2.3156\tScore: 2.2788\n",
      "Episode 90\tAverage Score: 2.5063\tScore: 2.4689\n",
      "Episode 95\tAverage Score: 2.7732\tScore: 2.7443\n",
      "Episode 100\tAverage Score: 2.9312\tScore: 2.9022\n",
      "Episode 105\tAverage Score: 3.2507\tScore: 3.0965\n",
      "Episode 110\tAverage Score: 3.5893\tScore: 3.2887\n",
      "Episode 115\tAverage Score: 3.9482\tScore: 3.4699\n",
      "Episode 120\tAverage Score: 4.3014\tScore: 3.6617\n",
      "Episode 125\tAverage Score: 4.7876\tScore: 3.9160\n",
      "Episode 130\tAverage Score: 5.1894\tScore: 4.1458\n",
      "Episode 135\tAverage Score: 5.5689\tScore: 4.3377\n",
      "Episode 140\tAverage Score: 6.1228\tScore: 4.6172\n",
      "Episode 145\tAverage Score: 6.5768\tScore: 4.8548\n",
      "Episode 150\tAverage Score: 7.1090\tScore: 5.1697\n",
      "Episode 155\tAverage Score: 7.6847\tScore: 5.4595\n",
      "Episode 160\tAverage Score: 8.0520\tScore: 5.6097\n",
      "Episode 165\tAverage Score: 8.5014\tScore: 5.8154\n",
      "Episode 170\tAverage Score: 8.9847\tScore: 6.0284\n",
      "Episode 175\tAverage Score: 9.4357\tScore: 6.2269\n",
      "Episode 180\tAverage Score: 9.7337\tScore: 6.3399\n",
      "Episode 185\tAverage Score: 10.3107\tScore: 6.5970\n",
      "Episode 190\tAverage Score: 10.7992\tScore: 6.8251\n",
      "Episode 195\tAverage Score: 11.1247\tScore: 7.0200\n",
      "Episode 200\tAverage Score: 11.6356\tScore: 7.2422\n",
      "Episode 205\tAverage Score: 12.1518\tScore: 7.4923\n",
      "Episode 210\tAverage Score: 12.4208\tScore: 7.6167\n",
      "Episode 215\tAverage Score: 12.8065\tScore: 7.7878\n",
      "Episode 220\tAverage Score: 13.1339\tScore: 7.9478\n",
      "Episode 225\tAverage Score: 13.5797\tScore: 8.1875\n",
      "Episode 230\tAverage Score: 13.9053\tScore: 8.3664\n",
      "Episode 235\tAverage Score: 14.3506\tScore: 8.5805\n",
      "Episode 240\tAverage Score: 14.6535\tScore: 8.7817\n",
      "Episode 245\tAverage Score: 15.2051\tScore: 9.0582\n",
      "Episode 250\tAverage Score: 15.5105\tScore: 9.2895\n",
      "Episode 255\tAverage Score: 15.8280\tScore: 9.5058\n",
      "Episode 260\tAverage Score: 16.6012\tScore: 9.8210\n",
      "Episode 265\tAverage Score: 17.2332\tScore: 10.1078\n",
      "Episode 270\tAverage Score: 17.7280\tScore: 10.3419\n",
      "Episode 275\tAverage Score: 18.2469\tScore: 10.5784\n",
      "Episode 280\tAverage Score: 19.0707\tScore: 10.8704\n",
      "Episode 285\tAverage Score: 19.5336\tScore: 11.1203\n",
      "Episode 290\tAverage Score: 19.9453\tScore: 11.3303\n",
      "Episode 295\tAverage Score: 20.5107\tScore: 11.5777\n",
      "Episode 300\tAverage Score: 21.0030\tScore: 11.8139\n"
     ]
    },
    {
     "data": {
      "image/png": "[encoded data removed]",
      "text/plain": [
       "<matplotlib.figure.Figure at 0x7f7de7fc4048>"
      ]
     },
     "metadata": {
      "needs_background": "light"
     },
     "output_type": "display_data"
    }
   ],
   "source": [
    "scores = ddpg()\n",
    "\n",
    "fig = plt.figure()\n",
    "ax = fig.add_subplot(111)\n",
    "plt.plot(np.arange(1, len(scores)+1), scores)\n",
    "plt.ylabel('Score')\n",
    "plt.xlabel('Episode #')\n",
    "plt.show()\n",
    "fig.savefig('scores_3.png')"
   ]
  },
  {
   "cell_type": "code",
   "execution_count": 15,
   "metadata": {
    "scrolled": true
   },
   "outputs": [
    {
     "name": "stdout",
     "output_type": "stream",
     "text": [
      "Environment solved in episodes: 1\tAverage Score: 32.69\n"
     ]
    },
    {
     "data": {
      "image/png": "[encoded data removed]",
      "text/plain": [
       "<matplotlib.figure.Figure at 0x7f7da3af7f28>"
      ]
     },
     "metadata": {
      "needs_background": "light"
     },
     "output_type": "display_data"
    }
   ],
   "source": [
    "scores = ddpg(n_episodes=100)\n",
    "\n",
    "fig = plt.figure()\n",
    "ax = fig.add_subplot(111)\n",
    "plt.plot(np.arange(1, len(scores)+1), scores)\n",
    "plt.ylabel('Score')\n",
    "plt.xlabel('Episode #')\n",
    "plt.show()\n",
    "fig.savefig('scores_2.png')"
   ]
  },
  {
   "cell_type": "markdown",
   "metadata": {},
   "source": [
    "# 4. It's Your Turn!\n",
    "\n",
    "Now it's your turn to train your own agent to solve the environment!  A few **important notes**:\n",
    "- When training the environment, set `train_mode=True`, so that the line for resetting the environment looks like the following:\n",
    "```python\n",
    "env_info = env.reset(train_mode=True)[brain_name]\n",
    "```\n",
    "- To structure your work, you're welcome to work directly in this Jupyter notebook, or you might like to start over with a new file!  You can see the list of files in the workspace by clicking on **_Jupyter_** in the top left corner of the notebook.\n",
    "- In this coding environment, you will not be able to watch the agents while they are training.  However, **_after training the agents_**, you can download the saved model weights to watch the agents on your own machine! "
   ]
  }
 ],
 "metadata": {
  "kernelspec": {
   "display_name": "Python 3",
   "language": "python",
   "name": "python3"
  },
  "language_info": {
   "codemirror_mode": {
    "name": "ipython",
    "version": 3
   },
   "file_extension": ".py",
   "mimetype": "text/x-python",
   "name": "python",
   "nbconvert_exporter": "python",
   "pygments_lexer": "ipython3",
   "version": "3.6.8"
  }
 },
 "nbformat": 4,
 "nbformat_minor": 2
}
